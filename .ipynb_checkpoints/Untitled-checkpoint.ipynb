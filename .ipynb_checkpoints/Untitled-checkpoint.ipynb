{
 "cells": [
  {
   "cell_type": "code",
   "execution_count": 1,
   "metadata": {},
   "outputs": [],
   "source": [
    "import random\n",
    "import array\n",
    "from deap import base\n",
    "from deap import tools\n",
    "from deap import creator\n",
    "import sympy\n",
    "from sympy.solvers import solve\n",
    "from sympy import Symbol\n",
    "from sympy import Eq\n",
    "import networkx\n",
    "from sympy import exp\n",
    "import matplotlib.pyplot as plt\n",
    "from mpmath import mp\n",
    "import math\n",
    "from deap import benchmarks\n",
    "import numpy\n",
    "from itertools import chain\n",
    "##Define constants\n",
    "## number of individuals in the population\n",
    "NP = 30\n",
    "##coefficients from the datasheet of the PV panel\n",
    "IscTempcoeff = 0.059\n",
    "VocTempcoeff = - 0.32\n",
    "PeakPowTempcoeff = - 0.43\n",
    "Voc = 21.7\n",
    "Vmp = 17.4\n",
    "Isc = 3.45\n",
    "Imp = 3.15\n",
    "q = 1.60217646 *(10**(-19)) \n",
    "k = 1.3806503*(10**(-23))\n",
    "Scell = 36\n",
    "T = 298.15\n",
    "Vt = (Scell * k*T)/q\n",
    "x = []\n",
    "lengthy = []\n",
    "##amount of generations\n",
    "max = 100\n",
    "##lower and upper bounds of the variables to solve\n",
    "Xih = [2.0, 1.0 ,3000.0, 10**(-9), Isc]\n",
    "Xil = [1.0, 0.1, 100.0, 10**(-10), 0.000]\n"
   ]
  },
  {
   "cell_type": "markdown",
   "metadata": {},
   "source": [
    "Start to define the mutation,crossover, penalty and evaluation function from the paper"
   ]
  },
  {
   "cell_type": "markdown",
   "metadata": {},
   "source": [
    "Mutation:\n",
    "![title](Capture4.png)\n",
    "![title](Capture5.png)"
   ]
  },
  {
   "cell_type": "code",
   "execution_count": 2,
   "metadata": {},
   "outputs": [],
   "source": [
    "#mutation function\n",
    "def mutateDE(mutant, a, b, c, f):\n",
    "    size = len(mutant)\n",
    "    for k in range(size):\n",
    "        mutant[k] = a[k] + f * (b[k] - c[k])\n",
    "    return mutant"
   ]
  },
  {
   "cell_type": "markdown",
   "metadata": {},
   "source": [
    "Crossover and penalty function:\n",
    "![title](Capture3.png)"
   ]
  },
  {
   "cell_type": "code",
   "execution_count": 3,
   "metadata": {},
   "outputs": [],
   "source": [
    "#crossover based on binomial\n",
    "def cxBinomial(x, mutant, cr):\n",
    "    size = len(x)\n",
    "    index = random.randrange(size)\n",
    "    for i in range(size):\n",
    "        if ((i == index) or (random.random() < cr)):\n",
    "            x[i] = mutant[i]\n",
    "    return x\n",
    "##OPTIONAL CROSSOVER TYPE THAT WAS TESTED\n",
    "def cxExponential(x, y, cr):\n",
    "    size = len(x)\n",
    "    index = random.randrange(size)\n",
    "    # Loop on the indices index -> end, then on 0 -> index\n",
    "    for i in chain(range(index, size), range(0, index)):\n",
    "        x[i] = y[i]\n",
    "        if random.random() < cr:\n",
    "            break\n",
    "    return x\n",
    "\n",
    "#Penalty function to ensure the parameters remain in acceptable range\n",
    "def cxPenalty(x):\n",
    "    z = random.uniform(0.0, 1.0)\n",
    "   \n",
    "    if (x[0] > Xih[0]):\n",
    "        x[0] = x[0] - (z * (Xih[0] - Xil[0]))\n",
    "    if (x[1] > Xih[1]):\n",
    "        x[1] = x[1] - (z * (Xih[1] - Xil[1]))\n",
    "    if (x[2] > Xih[2]):\n",
    "        x[2] = x[2] - (z * (Xih[2] - Xil[2]))\n",
    "    if (x[3] > Xih[3]):\n",
    "        x[3] = x[3] - (z * (Xih[3] - Xil[3]))\n",
    "    if (x[4] > Xih[4]):\n",
    "        x[4] = x[4] - (z * (Xih[4] - Xil[4]))\n",
    "        \n",
    "        \n",
    "    if (x[0] < Xil[0]):\n",
    "        x[0] = x[0] + (z * (Xih[0] - Xil[0]))\n",
    "    if (x[1] < Xil[1]): \n",
    "        x[1] = x[1] + (z * (Xih[1] - Xil[1]))\n",
    "    if (x[2] < Xil[2]):\n",
    "        x[2] = x[2] + (z * (Xih[2] - Xil[2]))\n",
    "    if (x[3] < Xil[3]):\n",
    "        x[3] = x[3] + (z * (Xih[3] - Xil[3]))\n",
    "    if (x[4] < Xil[4]):\n",
    "        x[4] = x[4] + (z * (Xih[4] - Xil[4]))\n",
    "        \n",
    "        \n",
    "    return x\n"
   ]
  },
  {
   "cell_type": "markdown",
   "metadata": {},
   "source": [
    "Objective function:\n",
    "\n",
    "![title](Capture.png)\n",
    "\n",
    "\n",
    "Parameter definitions:\n",
    "\n",
    "![title](Capture2.png)"
   ]
  },
  {
   "cell_type": "code",
   "execution_count": 4,
   "metadata": {},
   "outputs": [],
   "source": [
    "\n",
    "#evaluation and selection function\n",
    "def eval(a, Rs, Rp, Io):\n",
    "    r = (1 / (a * Vt))\n",
    "#     print(Vt)\n",
    "#     print(r)\n",
    "    Gp = (1 / Rp)\n",
    "#     print(Gp)\n",
    "    preex = (r*(Vmp + (Imp * Rs)))\n",
    "#     print(preex)\n",
    "    expo = mp.exp(preex)\n",
    "#     print(expo)\n",
    "    Jnum1 = (Io) * (r) * expo \n",
    "    Jnum = Jnum1 - (Gp)\n",
    "    #print(Jnum)\n",
    "    Jden = 1 + ((Rs)*(Jnum1)) + (Gp * Rs)\n",
    "#     print(Jden)\n",
    "    J = -(Jnum / Jden) + (Imp/Vmp)\n",
    "    if J < 0:\n",
    "        J = math.inf\n",
    "    return (J)\n",
    "\n"
   ]
  },
  {
   "cell_type": "markdown",
   "metadata": {},
   "source": [
    "Register the defined functions above to the deap framework and setup the statistics to keep track of the population progression"
   ]
  },
  {
   "cell_type": "code",
   "execution_count": 16,
   "metadata": {},
   "outputs": [
    {
     "name": "stdout",
     "output_type": "stream",
     "text": [
      "gen\tevals\tstd\tmin               \tavg \tmax\n",
      "0  \t30   \tnan\t0.0514262800845991\t+inf\tinf\n"
     ]
    }
   ],
   "source": [
    "    generation = 0\n",
    "    # DEAP framework definition\n",
    "    creator.create(\"Fitnessmin\", base.Fitness, weights=(-1.0,))\n",
    "    creator.create(\"Individual\", array.array, typecode='d', fitness=creator.Fitnessmin)\n",
    "    toolbox = base.Toolbox()\n",
    "    toolbox.register(\"attr_a\", random.uniform, 1.0, 2.0)\n",
    "    toolbox.register(\"attr_rs\", random.uniform, 0.1, 1.0)\n",
    "    toolbox.register(\"attr_rp\", random.uniform, 100.0, 3000.0)\n",
    "    toolbox.register(\"attr_io\", random.uniform, 10**(-10),10**(-9))\n",
    "    toolbox.register(\"attr_ipv\", random.uniform, 0.1, Isc)\n",
    "    \n",
    "    toolbox.register(\"individual\", tools.initCycle, creator.Individual,\n",
    "                     (toolbox.attr_a, toolbox.attr_rs, toolbox.attr_rp, toolbox.attr_io, toolbox.attr_ipv), 1)\n",
    "    toolbox.register(\"population\", tools.initRepeat, list, toolbox.individual)\n",
    "    toolbox.register(\"mutate\", mutateDE, f=0.3)\n",
    "    toolbox.register(\"select\", tools.selRandom, k=3)\n",
    "    toolbox.register(\"mate\", cxBinomial, cr=0.7)\n",
    "    toolbox.register(\"evaluate\", eval)\n",
    "      \n",
    "    # generate population\n",
    "    pop = toolbox.population(n=NP)\n",
    "\n",
    "    ## Hall of fame to save the best individual\n",
    "    hof = tools.HallOfFame(1)\n",
    "    \n",
    "    #Initialize stats\n",
    "    stats = tools.Statistics(lambda ind: ind.fitness.values)\n",
    "    stats.register(\"avg\", numpy.mean,axis = 0)\n",
    "    stats.register(\"std\", numpy.std,axis = 0)\n",
    "    stats.register(\"min\", numpy.min,axis = 0)\n",
    "    stats.register(\"max\", numpy.max,axis = 0)\n",
    "    \n",
    "    logbook = tools.Logbook()\n",
    "    logbook.header = \"gen\", \"evals\", \"std\", \"min\", \"avg\", \"max\"\n",
    "    #store statistics for initial population\n",
    "    for agent in pop:\n",
    "        fit = toolbox.evaluate(agent[0], agent[1], agent[2], agent[3])\n",
    "        agent.fitness.values = fit,\n",
    "    record = stats.compile(pop)\n",
    "    logbook.record(gen=0, evals=len(pop), **record)\n",
    "    \n",
    "    print(logbook.stream)\n",
    "\n"
   ]
  },
  {
   "cell_type": "markdown",
   "metadata": {},
   "source": [
    "Perform the differential evolution algorithm searching for the global minimum"
   ]
  },
  {
   "cell_type": "code",
   "execution_count": 8,
   "metadata": {
    "scrolled": true
   },
   "outputs": [
    {
     "ename": "ValueError",
     "evalue": "max() arg is an empty sequence",
     "output_type": "error",
     "traceback": [
      "\u001b[1;31m---------------------------------------------------------------------------\u001b[0m",
      "\u001b[1;31mValueError\u001b[0m                                Traceback (most recent call last)",
      "\u001b[1;32m<ipython-input-8-6dd1814aa54e>\u001b[0m in \u001b[0;36m<module>\u001b[1;34m\u001b[0m\n\u001b[0;32m     18\u001b[0m         \u001b[0mrecord\u001b[0m \u001b[1;33m=\u001b[0m \u001b[0mstats\u001b[0m\u001b[1;33m.\u001b[0m\u001b[0mcompile\u001b[0m\u001b[1;33m(\u001b[0m\u001b[0mpop\u001b[0m\u001b[1;33m)\u001b[0m\u001b[1;33m\u001b[0m\u001b[1;33m\u001b[0m\u001b[0m\n\u001b[0;32m     19\u001b[0m         \u001b[0mlogbook\u001b[0m\u001b[1;33m.\u001b[0m\u001b[0mrecord\u001b[0m\u001b[1;33m(\u001b[0m\u001b[0mgen\u001b[0m\u001b[1;33m=\u001b[0m\u001b[0mgeneration\u001b[0m\u001b[1;33m,\u001b[0m \u001b[0mevals\u001b[0m\u001b[1;33m=\u001b[0m\u001b[0mlen\u001b[0m\u001b[1;33m(\u001b[0m\u001b[0mpop\u001b[0m\u001b[1;33m)\u001b[0m\u001b[1;33m,\u001b[0m \u001b[1;33m**\u001b[0m\u001b[0mrecord\u001b[0m\u001b[1;33m)\u001b[0m\u001b[1;33m\u001b[0m\u001b[1;33m\u001b[0m\u001b[0m\n\u001b[1;32m---> 20\u001b[1;33m         \u001b[0mprint\u001b[0m\u001b[1;33m(\u001b[0m\u001b[0mlogbook\u001b[0m\u001b[1;33m.\u001b[0m\u001b[0mstream\u001b[0m\u001b[1;33m)\u001b[0m\u001b[1;33m\u001b[0m\u001b[1;33m\u001b[0m\u001b[0m\n\u001b[0m\u001b[0;32m     21\u001b[0m         \u001b[0mx\u001b[0m\u001b[1;33m.\u001b[0m\u001b[0mappend\u001b[0m\u001b[1;33m(\u001b[0m\u001b[0mlogbook\u001b[0m\u001b[1;33m[\u001b[0m\u001b[0mgeneration\u001b[0m\u001b[1;33m]\u001b[0m\u001b[1;33m[\u001b[0m\u001b[1;34m'min'\u001b[0m\u001b[1;33m]\u001b[0m\u001b[1;33m)\u001b[0m\u001b[1;33m\u001b[0m\u001b[1;33m\u001b[0m\u001b[0m\n\u001b[0;32m     22\u001b[0m         \u001b[0mlengthy\u001b[0m\u001b[1;33m.\u001b[0m\u001b[0mappend\u001b[0m\u001b[1;33m(\u001b[0m\u001b[0mgeneration\u001b[0m\u001b[1;33m)\u001b[0m\u001b[1;33m\u001b[0m\u001b[1;33m\u001b[0m\u001b[0m\n",
      "\u001b[1;32mc:\\users\\ianre\\appdata\\local\\programs\\python\\python39\\lib\\site-packages\\deap\\tools\\support.py\u001b[0m in \u001b[0;36mstream\u001b[1;34m(self)\u001b[0m\n\u001b[0;32m    397\u001b[0m         \"\"\"\n\u001b[0;32m    398\u001b[0m         \u001b[0mstartindex\u001b[0m\u001b[1;33m,\u001b[0m \u001b[0mself\u001b[0m\u001b[1;33m.\u001b[0m\u001b[0mbuffindex\u001b[0m \u001b[1;33m=\u001b[0m \u001b[0mself\u001b[0m\u001b[1;33m.\u001b[0m\u001b[0mbuffindex\u001b[0m\u001b[1;33m,\u001b[0m \u001b[0mlen\u001b[0m\u001b[1;33m(\u001b[0m\u001b[0mself\u001b[0m\u001b[1;33m)\u001b[0m\u001b[1;33m\u001b[0m\u001b[1;33m\u001b[0m\u001b[0m\n\u001b[1;32m--> 399\u001b[1;33m         \u001b[1;32mreturn\u001b[0m \u001b[0mself\u001b[0m\u001b[1;33m.\u001b[0m\u001b[0m__str__\u001b[0m\u001b[1;33m(\u001b[0m\u001b[0mstartindex\u001b[0m\u001b[1;33m)\u001b[0m\u001b[1;33m\u001b[0m\u001b[1;33m\u001b[0m\u001b[0m\n\u001b[0m\u001b[0;32m    400\u001b[0m \u001b[1;33m\u001b[0m\u001b[0m\n\u001b[0;32m    401\u001b[0m     \u001b[1;32mdef\u001b[0m \u001b[0m__delitem__\u001b[0m\u001b[1;33m(\u001b[0m\u001b[0mself\u001b[0m\u001b[1;33m,\u001b[0m \u001b[0mkey\u001b[0m\u001b[1;33m)\u001b[0m\u001b[1;33m:\u001b[0m\u001b[1;33m\u001b[0m\u001b[1;33m\u001b[0m\u001b[0m\n",
      "\u001b[1;32mc:\\users\\ianre\\appdata\\local\\programs\\python\\python39\\lib\\site-packages\\deap\\tools\\support.py\u001b[0m in \u001b[0;36m__str__\u001b[1;34m(self, startindex)\u001b[0m\n\u001b[0;32m    484\u001b[0m \u001b[1;33m\u001b[0m\u001b[0m\n\u001b[0;32m    485\u001b[0m     \u001b[1;32mdef\u001b[0m \u001b[0m__str__\u001b[0m\u001b[1;33m(\u001b[0m\u001b[0mself\u001b[0m\u001b[1;33m,\u001b[0m \u001b[0mstartindex\u001b[0m\u001b[1;33m=\u001b[0m\u001b[1;36m0\u001b[0m\u001b[1;33m)\u001b[0m\u001b[1;33m:\u001b[0m\u001b[1;33m\u001b[0m\u001b[1;33m\u001b[0m\u001b[0m\n\u001b[1;32m--> 486\u001b[1;33m         \u001b[0mtext\u001b[0m \u001b[1;33m=\u001b[0m \u001b[0mself\u001b[0m\u001b[1;33m.\u001b[0m\u001b[0m__txt__\u001b[0m\u001b[1;33m(\u001b[0m\u001b[0mstartindex\u001b[0m\u001b[1;33m)\u001b[0m\u001b[1;33m\u001b[0m\u001b[1;33m\u001b[0m\u001b[0m\n\u001b[0m\u001b[0;32m    487\u001b[0m         \u001b[1;32mreturn\u001b[0m \u001b[1;34m\"\\n\"\u001b[0m\u001b[1;33m.\u001b[0m\u001b[0mjoin\u001b[0m\u001b[1;33m(\u001b[0m\u001b[0mtext\u001b[0m\u001b[1;33m)\u001b[0m\u001b[1;33m\u001b[0m\u001b[1;33m\u001b[0m\u001b[0m\n\u001b[0;32m    488\u001b[0m \u001b[1;33m\u001b[0m\u001b[0m\n",
      "\u001b[1;32mc:\\users\\ianre\\appdata\\local\\programs\\python\\python39\\lib\\site-packages\\deap\\tools\\support.py\u001b[0m in \u001b[0;36m__txt__\u001b[1;34m(self, startindex)\u001b[0m\n\u001b[0;32m    437\u001b[0m         \u001b[0moffsets\u001b[0m \u001b[1;33m=\u001b[0m \u001b[0mdefaultdict\u001b[0m\u001b[1;33m(\u001b[0m\u001b[0mint\u001b[0m\u001b[1;33m)\u001b[0m\u001b[1;33m\u001b[0m\u001b[1;33m\u001b[0m\u001b[0m\n\u001b[0;32m    438\u001b[0m         \u001b[1;32mfor\u001b[0m \u001b[0mname\u001b[0m\u001b[1;33m,\u001b[0m \u001b[0mchapter\u001b[0m \u001b[1;32min\u001b[0m \u001b[0mlist\u001b[0m\u001b[1;33m(\u001b[0m\u001b[0mself\u001b[0m\u001b[1;33m.\u001b[0m\u001b[0mchapters\u001b[0m\u001b[1;33m.\u001b[0m\u001b[0mitems\u001b[0m\u001b[1;33m(\u001b[0m\u001b[1;33m)\u001b[0m\u001b[1;33m)\u001b[0m\u001b[1;33m:\u001b[0m\u001b[1;33m\u001b[0m\u001b[1;33m\u001b[0m\u001b[0m\n\u001b[1;32m--> 439\u001b[1;33m             \u001b[0mchapters_txt\u001b[0m\u001b[1;33m[\u001b[0m\u001b[0mname\u001b[0m\u001b[1;33m]\u001b[0m \u001b[1;33m=\u001b[0m \u001b[0mchapter\u001b[0m\u001b[1;33m.\u001b[0m\u001b[0m__txt__\u001b[0m\u001b[1;33m(\u001b[0m\u001b[0mstartindex\u001b[0m\u001b[1;33m)\u001b[0m\u001b[1;33m\u001b[0m\u001b[1;33m\u001b[0m\u001b[0m\n\u001b[0m\u001b[0;32m    440\u001b[0m             \u001b[1;32mif\u001b[0m \u001b[0mstartindex\u001b[0m \u001b[1;33m==\u001b[0m \u001b[1;36m0\u001b[0m\u001b[1;33m:\u001b[0m\u001b[1;33m\u001b[0m\u001b[1;33m\u001b[0m\u001b[0m\n\u001b[0;32m    441\u001b[0m                 \u001b[0moffsets\u001b[0m\u001b[1;33m[\u001b[0m\u001b[0mname\u001b[0m\u001b[1;33m]\u001b[0m \u001b[1;33m=\u001b[0m \u001b[0mlen\u001b[0m\u001b[1;33m(\u001b[0m\u001b[0mchapters_txt\u001b[0m\u001b[1;33m[\u001b[0m\u001b[0mname\u001b[0m\u001b[1;33m]\u001b[0m\u001b[1;33m)\u001b[0m \u001b[1;33m-\u001b[0m \u001b[0mlen\u001b[0m\u001b[1;33m(\u001b[0m\u001b[0mself\u001b[0m\u001b[1;33m)\u001b[0m\u001b[1;33m\u001b[0m\u001b[1;33m\u001b[0m\u001b[0m\n",
      "\u001b[1;32mc:\\users\\ianre\\appdata\\local\\programs\\python\\python39\\lib\\site-packages\\deap\\tools\\support.py\u001b[0m in \u001b[0;36m__txt__\u001b[1;34m(self, startindex)\u001b[0m\n\u001b[0;32m    472\u001b[0m                         \u001b[0mheader\u001b[0m\u001b[1;33m[\u001b[0m\u001b[0mblanks\u001b[0m\u001b[1;33m+\u001b[0m\u001b[1;36m2\u001b[0m\u001b[1;33m+\u001b[0m\u001b[0mi\u001b[0m\u001b[1;33m]\u001b[0m\u001b[1;33m.\u001b[0m\u001b[0mappend\u001b[0m\u001b[1;33m(\u001b[0m\u001b[0mchapters_txt\u001b[0m\u001b[1;33m[\u001b[0m\u001b[0mname\u001b[0m\u001b[1;33m]\u001b[0m\u001b[1;33m[\u001b[0m\u001b[0mi\u001b[0m\u001b[1;33m]\u001b[0m\u001b[1;33m)\u001b[0m\u001b[1;33m\u001b[0m\u001b[1;33m\u001b[0m\u001b[0m\n\u001b[0;32m    473\u001b[0m                 \u001b[1;32melse\u001b[0m\u001b[1;33m:\u001b[0m\u001b[1;33m\u001b[0m\u001b[1;33m\u001b[0m\u001b[0m\n\u001b[1;32m--> 474\u001b[1;33m                     \u001b[0mlength\u001b[0m \u001b[1;33m=\u001b[0m \u001b[0mmax\u001b[0m\u001b[1;33m(\u001b[0m\u001b[0mlen\u001b[0m\u001b[1;33m(\u001b[0m\u001b[0mline\u001b[0m\u001b[1;33m[\u001b[0m\u001b[0mj\u001b[0m\u001b[1;33m]\u001b[0m\u001b[1;33m.\u001b[0m\u001b[0mexpandtabs\u001b[0m\u001b[1;33m(\u001b[0m\u001b[1;33m)\u001b[0m\u001b[1;33m)\u001b[0m \u001b[1;32mfor\u001b[0m \u001b[0mline\u001b[0m \u001b[1;32min\u001b[0m \u001b[0mstr_matrix\u001b[0m\u001b[1;33m)\u001b[0m\u001b[1;33m\u001b[0m\u001b[1;33m\u001b[0m\u001b[0m\n\u001b[0m\u001b[0;32m    475\u001b[0m                     \u001b[1;32mfor\u001b[0m \u001b[0mline\u001b[0m \u001b[1;32min\u001b[0m \u001b[0mheader\u001b[0m\u001b[1;33m[\u001b[0m\u001b[1;33m:\u001b[0m\u001b[1;33m-\u001b[0m\u001b[1;36m1\u001b[0m\u001b[1;33m]\u001b[0m\u001b[1;33m:\u001b[0m\u001b[1;33m\u001b[0m\u001b[1;33m\u001b[0m\u001b[0m\n\u001b[0;32m    476\u001b[0m                         \u001b[0mline\u001b[0m\u001b[1;33m.\u001b[0m\u001b[0mappend\u001b[0m\u001b[1;33m(\u001b[0m\u001b[1;34m\" \"\u001b[0m \u001b[1;33m*\u001b[0m \u001b[0mlength\u001b[0m\u001b[1;33m)\u001b[0m\u001b[1;33m\u001b[0m\u001b[1;33m\u001b[0m\u001b[0m\n",
      "\u001b[1;31mValueError\u001b[0m: max() arg is an empty sequence"
     ]
    }
   ],
   "source": [
    "while (generation < max):\n",
    "        for i, agent in enumerate(pop):\n",
    "            # Mutation\n",
    "            a, b, c = [toolbox.clone(ind) for ind in toolbox.select(pop)]\n",
    "            mutant1 = toolbox.clone(agent)\n",
    "            mutant = toolbox.clone(agent)\n",
    "            mutant = toolbox.mutate(mutant, a, b, c)\n",
    "            trialvec = toolbox.mate(mutant1, mutant)\n",
    "            trialvec1 = cxPenalty(trialvec)\n",
    "            trialeval = (toolbox.evaluate(trialvec1[0], trialvec1[1], trialvec1[2], trialvec1[3]))\n",
    "            curreval = (toolbox.evaluate(agent[0], agent[1], agent[2], agent[3]))\n",
    "            pop[i].fitness.values = curreval, \n",
    "            if ((trialeval < curreval)):\n",
    "                #selection -> trialvector is better than original vector\n",
    "                pop[i] = trialvec\n",
    "                pop[i].fitness.values = trialeval,\n",
    "        hof.update(pop)\n",
    "        record = stats.compile(pop)\n",
    "        logbook.record(gen=generation, evals=len(pop), **record)\n",
    "        print(logbook.stream)\n",
    "        x.append(logbook[generation]['min'])\n",
    "        lengthy.append(generation)\n",
    "        generation = generation + 1 "
   ]
  },
  {
   "cell_type": "code",
   "execution_count": 7,
   "metadata": {},
   "outputs": [
    {
     "name": "stdout",
     "output_type": "stream",
     "text": [
      "fitness = (mpf('0.085396119043332913'),)\n",
      "io = 9.780640909319534e-10\n",
      "Rs = 0.4678814279825312\n",
      "Rp =  638.3938507264588\n",
      "a = 1.1040800427335187\n",
      "Vt = 0.9249338197129674\n",
      "r = 0.9792391783866269\n",
      "solving start:\n",
      "Imp = 3.3164449341852\n",
      "0.0\n",
      "[3.44747332912453]\n",
      "0.5\n",
      "[3.44669068416858]\n",
      "1.0\n",
      "[3.44590803732360]\n",
      "1.5\n",
      "[3.44512538739741]\n",
      "2.0\n",
      "[3.44434273244545]\n",
      "2.5\n",
      "[3.44356006929587]\n",
      "3.0\n",
      "[3.44277739277508]\n",
      "3.5\n",
      "[3.44199469444438]\n",
      "4.0\n",
      "[3.44121196053932]\n",
      "4.5\n",
      "[3.44042916860853]\n",
      "5.0\n",
      "[3.43964628203143]\n",
      "5.5\n",
      "[3.43886324107580]\n",
      "6.0\n",
      "[3.43807994831195]\n",
      "6.5\n",
      "[3.43729624482162]\n",
      "7.0\n",
      "[3.43651187139243]\n",
      "7.5\n",
      "[3.43572640522268]\n",
      "8.0\n",
      "[3.43493915668224]\n",
      "8.5\n",
      "[3.43414900092447]\n",
      "9.0\n",
      "[3.43335410324357]\n",
      "9.5\n",
      "[3.43255147114689]\n",
      "10.0\n",
      "[3.43173622385458]\n",
      "10.5\n",
      "[3.43090040109006]\n",
      "11.0\n",
      "[3.43003102092914]\n",
      "11.5\n",
      "[3.42910691418050]\n",
      "12.0\n",
      "[3.42809356687383]\n",
      "12.5\n",
      "[3.42693472363476]\n",
      "13.0\n",
      "[3.42553873393940]\n",
      "13.5\n",
      "[3.42375639294163]\n",
      "14.0\n",
      "[3.42134509278608]\n",
      "14.5\n",
      "[3.41791112870289]\n",
      "15.0\n",
      "[3.41281763892125]\n",
      "15.5\n",
      "[3.40503976540455]\n",
      "16.0\n",
      "[3.39294205711813]\n",
      "16.5\n",
      "[3.37394963396146]\n",
      "17.0\n",
      "[3.34409462912151]\n",
      "17.5\n",
      "[3.29746519780715]\n",
      "18.0\n",
      "[3.22569841818700]\n",
      "18.5\n",
      "[3.11784961407978]\n",
      "19.0\n",
      "[2.96112945702053]\n",
      "19.5\n",
      "[2.74282557851363]\n",
      "20.0\n",
      "[2.45298765227185]\n",
      "20.5\n",
      "[2.08662263993874]\n",
      "21.0\n",
      "[1.64424214593109]\n",
      "appended\n",
      "21.7\n",
      "[1.13073198718842]\n"
     ]
    }
   ],
   "source": [
    "\n",
    "##extract best individual from the hall of fame\n",
    "bestid = hof[0]\n",
    "fit = hof[0].fitness\n",
    "print(\"fitness =\",fit)\n",
    "##extract parameters from individual\n",
    "a = ((bestid[0]))\n",
    "Rs = ((bestid[1]))\n",
    "Rp = ((bestid[2]))\n",
    "io = ((bestid[3]))\n",
    "print(\"io =\",io)\n",
    "print(\"Rs =\",Rs)\n",
    "print(\"Rp = \",Rp)\n",
    "print(\"a =\",a)\n",
    "#print(\"evaluation function =\",toolbox.evaluate(a, Rs, Rp, io))\n",
    "r = (1.0 / (a * Vt)) \n",
    "print(\"Vt =\",Vt)\n",
    "print(\"r =\",r)\n",
    "#Solve to ensure that Imp is retrieved when Vmp is provided\n",
    "print(\"solving start:\")\n",
    "exp1 = (Vmp +(Imp*Rs))*r\n",
    "s1= mp.exp(exp1) -1\n",
    "s1a = io*s1\n",
    "s2 = (Vmp + (Imp*Rs))/(Rp)\n",
    "s3 = Isc - s1a - s2\n",
    "t =[]\n",
    "v = []\n",
    "p = []\n",
    "print(\"Imp =\",s3)\n",
    "for z in range(44):\n",
    "    V = z*0.5\n",
    "    if(z == 43):\n",
    "        print(\"appended\")\n",
    "        v.append(21.7)\n",
    "    else:\n",
    "        v.append(V)\n",
    "    I = sympy.Symbol('I')\n",
    "    eqn = Eq(-I + Isc-io*(exp(r*(V + I * Rs)) - 1)-((V+I*Rs)/Rp),0)\n",
    "    t.append(solve(eqn,I,rational=False,real=True))\n",
    "    print(v[z])\n",
    "    print(t[z])\n",
    "    \n",
    "    \n",
    "    "
   ]
  },
  {
   "cell_type": "code",
   "execution_count": 8,
   "metadata": {},
   "outputs": [
    {
     "name": "stdout",
     "output_type": "stream",
     "text": [
      "[0.0, 0.5, 1.0, 1.5, 2.0, 2.5, 3.0, 3.5, 4.0, 4.5, 5.0, 5.5, 6.0, 6.5, 7.0, 7.5, 8.0, 8.5, 9.0, 9.5, 10.0, 10.5, 11.0, 11.5, 12.0, 12.5, 13.0, 13.5, 14.0, 14.5, 15.0, 15.5, 16.0, 16.5, 17.0, 17.5, 18.0, 18.5, 19.0, 19.5, 20.0, 20.5, 21.0, 21.7]\n",
      "[[3.44747332912453], [3.44669068416858], [3.44590803732360], [3.44512538739741], [3.44434273244545], [3.44356006929587], [3.44277739277508], [3.44199469444438], [3.44121196053932], [3.44042916860853], [3.43964628203143], [3.43886324107580], [3.43807994831195], [3.43729624482162], [3.43651187139243], [3.43572640522268], [3.43493915668224], [3.43414900092447], [3.43335410324357], [3.43255147114689], [3.43173622385458], [3.43090040109006], [3.43003102092914], [3.42910691418050], [3.42809356687383], [3.42693472363476], [3.42553873393940], [3.42375639294163], [3.42134509278608], [3.41791112870289], [3.41281763892125], [3.40503976540455], [3.39294205711813], [3.37394963396146], [3.34409462912151], [3.29746519780715], [3.22569841818700], [3.11784961407978], [2.96112945702053], [2.74282557851363], [2.45298765227185], [2.08662263993874], [1.64424214593109], [1.13073198718842]]\n"
     ]
    },
    {
     "data": {
      "image/png": "[encoded data removed]",
      "text/plain": [
       "<Figure size 432x288 with 1 Axes>"
      ]
     },
     "metadata": {
      "needs_background": "light"
     },
     "output_type": "display_data"
    }
   ],
   "source": [
    "print(v)\n",
    "print(t)\n",
    "plt.plot(v,t)\n",
    "plt.ylabel(\"Current\")\n",
    "plt.xlabel(\"Voltage\")\n",
    "plt.savefig(\"IV.png\")\n",
    "plt.show()\n"
   ]
  },
  {
   "cell_type": "code",
   "execution_count": 9,
   "metadata": {},
   "outputs": [
    {
     "name": "stdout",
     "output_type": "stream",
     "text": [
      "[]\n"
     ]
    },
    {
     "ename": "ValueError",
     "evalue": "x and y must have same first dimension, but have shapes (2,) and (0,)",
     "output_type": "error",
     "traceback": [
      "\u001b[1;31m---------------------------------------------------------------------------\u001b[0m",
      "\u001b[1;31mValueError\u001b[0m                                Traceback (most recent call last)",
      "\u001b[1;32m<ipython-input-9-f46bf1b15082>\u001b[0m in \u001b[0;36m<module>\u001b[1;34m\u001b[0m\n\u001b[0;32m      7\u001b[0m \u001b[1;33m\u001b[0m\u001b[0m\n\u001b[0;32m      8\u001b[0m \u001b[0mfig\u001b[0m\u001b[1;33m,\u001b[0m \u001b[0max1\u001b[0m \u001b[1;33m=\u001b[0m \u001b[0mplt\u001b[0m\u001b[1;33m.\u001b[0m\u001b[0msubplots\u001b[0m\u001b[1;33m(\u001b[0m\u001b[1;33m)\u001b[0m\u001b[1;33m\u001b[0m\u001b[1;33m\u001b[0m\u001b[0m\n\u001b[1;32m----> 9\u001b[1;33m \u001b[0mline1\u001b[0m \u001b[1;33m=\u001b[0m \u001b[0max1\u001b[0m\u001b[1;33m.\u001b[0m\u001b[0mplot\u001b[0m\u001b[1;33m(\u001b[0m\u001b[0mgen\u001b[0m\u001b[1;33m,\u001b[0m \u001b[0mfit_mins\u001b[0m\u001b[1;33m,\u001b[0m \u001b[1;34m\"b-\"\u001b[0m\u001b[1;33m,\u001b[0m \u001b[0mlabel\u001b[0m\u001b[1;33m=\u001b[0m\u001b[1;34m\"Minimum Fitness\"\u001b[0m\u001b[1;33m)\u001b[0m\u001b[1;33m\u001b[0m\u001b[1;33m\u001b[0m\u001b[0m\n\u001b[0m\u001b[0;32m     10\u001b[0m \u001b[0max1\u001b[0m\u001b[1;33m.\u001b[0m\u001b[0mset_xlabel\u001b[0m\u001b[1;33m(\u001b[0m\u001b[1;34m\"Generation\"\u001b[0m\u001b[1;33m)\u001b[0m\u001b[1;33m\u001b[0m\u001b[1;33m\u001b[0m\u001b[0m\n\u001b[0;32m     11\u001b[0m \u001b[0max1\u001b[0m\u001b[1;33m.\u001b[0m\u001b[0mset_ylabel\u001b[0m\u001b[1;33m(\u001b[0m\u001b[1;34m\"Fitness\"\u001b[0m\u001b[1;33m,\u001b[0m \u001b[0mcolor\u001b[0m\u001b[1;33m=\u001b[0m\u001b[1;34m\"b\"\u001b[0m\u001b[1;33m)\u001b[0m\u001b[1;33m\u001b[0m\u001b[1;33m\u001b[0m\u001b[0m\n",
      "\u001b[1;32mc:\\users\\ianre\\appdata\\local\\programs\\python\\python39\\lib\\site-packages\\matplotlib\\axes\\_axes.py\u001b[0m in \u001b[0;36mplot\u001b[1;34m(self, scalex, scaley, data, *args, **kwargs)\u001b[0m\n\u001b[0;32m   1741\u001b[0m         \"\"\"\n\u001b[0;32m   1742\u001b[0m         \u001b[0mkwargs\u001b[0m \u001b[1;33m=\u001b[0m \u001b[0mcbook\u001b[0m\u001b[1;33m.\u001b[0m\u001b[0mnormalize_kwargs\u001b[0m\u001b[1;33m(\u001b[0m\u001b[0mkwargs\u001b[0m\u001b[1;33m,\u001b[0m \u001b[0mmlines\u001b[0m\u001b[1;33m.\u001b[0m\u001b[0mLine2D\u001b[0m\u001b[1;33m)\u001b[0m\u001b[1;33m\u001b[0m\u001b[1;33m\u001b[0m\u001b[0m\n\u001b[1;32m-> 1743\u001b[1;33m         \u001b[0mlines\u001b[0m \u001b[1;33m=\u001b[0m \u001b[1;33m[\u001b[0m\u001b[1;33m*\u001b[0m\u001b[0mself\u001b[0m\u001b[1;33m.\u001b[0m\u001b[0m_get_lines\u001b[0m\u001b[1;33m(\u001b[0m\u001b[1;33m*\u001b[0m\u001b[0margs\u001b[0m\u001b[1;33m,\u001b[0m \u001b[0mdata\u001b[0m\u001b[1;33m=\u001b[0m\u001b[0mdata\u001b[0m\u001b[1;33m,\u001b[0m \u001b[1;33m**\u001b[0m\u001b[0mkwargs\u001b[0m\u001b[1;33m)\u001b[0m\u001b[1;33m]\u001b[0m\u001b[1;33m\u001b[0m\u001b[1;33m\u001b[0m\u001b[0m\n\u001b[0m\u001b[0;32m   1744\u001b[0m         \u001b[1;32mfor\u001b[0m \u001b[0mline\u001b[0m \u001b[1;32min\u001b[0m \u001b[0mlines\u001b[0m\u001b[1;33m:\u001b[0m\u001b[1;33m\u001b[0m\u001b[1;33m\u001b[0m\u001b[0m\n\u001b[0;32m   1745\u001b[0m             \u001b[0mself\u001b[0m\u001b[1;33m.\u001b[0m\u001b[0madd_line\u001b[0m\u001b[1;33m(\u001b[0m\u001b[0mline\u001b[0m\u001b[1;33m)\u001b[0m\u001b[1;33m\u001b[0m\u001b[1;33m\u001b[0m\u001b[0m\n",
      "\u001b[1;32mc:\\users\\ianre\\appdata\\local\\programs\\python\\python39\\lib\\site-packages\\matplotlib\\axes\\_base.py\u001b[0m in \u001b[0;36m__call__\u001b[1;34m(self, data, *args, **kwargs)\u001b[0m\n\u001b[0;32m    271\u001b[0m                 \u001b[0mthis\u001b[0m \u001b[1;33m+=\u001b[0m \u001b[0margs\u001b[0m\u001b[1;33m[\u001b[0m\u001b[1;36m0\u001b[0m\u001b[1;33m]\u001b[0m\u001b[1;33m,\u001b[0m\u001b[1;33m\u001b[0m\u001b[1;33m\u001b[0m\u001b[0m\n\u001b[0;32m    272\u001b[0m                 \u001b[0margs\u001b[0m \u001b[1;33m=\u001b[0m \u001b[0margs\u001b[0m\u001b[1;33m[\u001b[0m\u001b[1;36m1\u001b[0m\u001b[1;33m:\u001b[0m\u001b[1;33m]\u001b[0m\u001b[1;33m\u001b[0m\u001b[1;33m\u001b[0m\u001b[0m\n\u001b[1;32m--> 273\u001b[1;33m             \u001b[1;32myield\u001b[0m \u001b[1;32mfrom\u001b[0m \u001b[0mself\u001b[0m\u001b[1;33m.\u001b[0m\u001b[0m_plot_args\u001b[0m\u001b[1;33m(\u001b[0m\u001b[0mthis\u001b[0m\u001b[1;33m,\u001b[0m \u001b[0mkwargs\u001b[0m\u001b[1;33m)\u001b[0m\u001b[1;33m\u001b[0m\u001b[1;33m\u001b[0m\u001b[0m\n\u001b[0m\u001b[0;32m    274\u001b[0m \u001b[1;33m\u001b[0m\u001b[0m\n\u001b[0;32m    275\u001b[0m     \u001b[1;32mdef\u001b[0m \u001b[0mget_next_color\u001b[0m\u001b[1;33m(\u001b[0m\u001b[0mself\u001b[0m\u001b[1;33m)\u001b[0m\u001b[1;33m:\u001b[0m\u001b[1;33m\u001b[0m\u001b[1;33m\u001b[0m\u001b[0m\n",
      "\u001b[1;32mc:\\users\\ianre\\appdata\\local\\programs\\python\\python39\\lib\\site-packages\\matplotlib\\axes\\_base.py\u001b[0m in \u001b[0;36m_plot_args\u001b[1;34m(self, tup, kwargs)\u001b[0m\n\u001b[0;32m    397\u001b[0m \u001b[1;33m\u001b[0m\u001b[0m\n\u001b[0;32m    398\u001b[0m         \u001b[1;32mif\u001b[0m \u001b[0mx\u001b[0m\u001b[1;33m.\u001b[0m\u001b[0mshape\u001b[0m\u001b[1;33m[\u001b[0m\u001b[1;36m0\u001b[0m\u001b[1;33m]\u001b[0m \u001b[1;33m!=\u001b[0m \u001b[0my\u001b[0m\u001b[1;33m.\u001b[0m\u001b[0mshape\u001b[0m\u001b[1;33m[\u001b[0m\u001b[1;36m0\u001b[0m\u001b[1;33m]\u001b[0m\u001b[1;33m:\u001b[0m\u001b[1;33m\u001b[0m\u001b[1;33m\u001b[0m\u001b[0m\n\u001b[1;32m--> 399\u001b[1;33m             raise ValueError(f\"x and y must have same first dimension, but \"\n\u001b[0m\u001b[0;32m    400\u001b[0m                              f\"have shapes {x.shape} and {y.shape}\")\n\u001b[0;32m    401\u001b[0m         \u001b[1;32mif\u001b[0m \u001b[0mx\u001b[0m\u001b[1;33m.\u001b[0m\u001b[0mndim\u001b[0m \u001b[1;33m>\u001b[0m \u001b[1;36m2\u001b[0m \u001b[1;32mor\u001b[0m \u001b[0my\u001b[0m\u001b[1;33m.\u001b[0m\u001b[0mndim\u001b[0m \u001b[1;33m>\u001b[0m \u001b[1;36m2\u001b[0m\u001b[1;33m:\u001b[0m\u001b[1;33m\u001b[0m\u001b[1;33m\u001b[0m\u001b[0m\n",
      "\u001b[1;31mValueError\u001b[0m: x and y must have same first dimension, but have shapes (2,) and (0,)"
     ]
    },
    {
     "data": {
      "image/png": "[encoded data removed]",
      "text/plain": [
       "<Figure size 432x288 with 1 Axes>"
      ]
     },
     "metadata": {
      "needs_background": "light"
     },
     "output_type": "display_data"
    }
   ],
   "source": [
    "gen = logbook.select(\"gen\")\n",
    "fit_mins = logbook.chapters[\"fitness\"].select(\"min\")\n",
    "print(fit_mins)\n",
    "size_avgs = logbook.chapters[\"size\"].select(\"avg\")\n",
    "\n",
    "import matplotlib.pyplot as plt\n",
    "\n",
    "fig, ax1 = plt.subplots()\n",
    "line1 = ax1.plot(gen, fit_mins, \"b-\", label=\"Minimum Fitness\")\n",
    "ax1.set_xlabel(\"Generation\")\n",
    "ax1.set_ylabel(\"Fitness\", color=\"b\")\n",
    "for tl in ax1.get_yticklabels():\n",
    "    tl.set_color(\"b\")\n",
    "\n",
    "ax2 = ax1.twinx()\n",
    "line2 = ax2.plot(gen, size_avgs, \"r-\", label=\"Average Size\")\n",
    "ax2.set_ylabel(\"Size\", color=\"r\")\n",
    "for tl in ax2.get_yticklabels():\n",
    "    tl.set_color(\"r\")\n",
    "\n",
    "lns = line1 + line2\n",
    "labs = [l.get_label() for l in lns]\n",
    "ax1.legend(lns, labs, loc=\"center right\")\n",
    "\n",
    "plt.show()"
   ]
  },
  {
   "cell_type": "code",
   "execution_count": null,
   "metadata": {},
   "outputs": [],
   "source": []
  }
 ],
 "metadata": {
  "kernelspec": {
   "display_name": "Python 3",
   "language": "python",
   "name": "python3"
  },
  "language_info": {
   "codemirror_mode": {
    "name": "ipython",
    "version": 3
   },
   "file_extension": ".py",
   "mimetype": "text/x-python",
   "name": "python",
   "nbconvert_exporter": "python",
   "pygments_lexer": "ipython3",
   "version": "3.9.2"
  }
 },
 "nbformat": 4,
 "nbformat_minor": 2
}
