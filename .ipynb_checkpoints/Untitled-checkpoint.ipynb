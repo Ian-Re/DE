{
 "cells": [
  {
   "cell_type": "code",
   "execution_count": 1,
   "metadata": {},
   "outputs": [],
   "source": [
    "import random\n",
    "import array\n",
    "from deap import base\n",
    "from deap import tools\n",
    "from deap import creator\n",
    "import sympy\n",
    "from sympy.solvers import solve\n",
    "from sympy import Symbol\n",
    "from sympy import Eq\n",
    "import networkx\n",
    "from sympy import exp\n",
    "import matplotlib.pyplot as plt\n",
    "from mpmath import mp\n",
    "import math\n",
    "from deap import benchmarks\n",
    "import numpy\n",
    "from itertools import chain\n",
    "##Define constants\n",
    "## number of individuals in the population\n",
    "NP = 20\n",
    "##coefficients from the datasheet of the PV panel\n",
    "IscTempcoeff = 0.059\n",
    "VocTempcoeff = -0.32\n",
    "PeakPowTempcoeff = - 0.43\n",
    "Voc = 45.79\n",
    "Vmp = 36.38\n",
    "Isc = 8.99\n",
    "Imp = 8.52\n",
    "q = 1.620217646 *(10**(-19)) \n",
    "k = 1.32806503*(10**(-23))\n",
    "Scell = 72\n",
    "T = 25\n",
    "Vt = (Scell * k*T)/q\n",
    "\n",
    "##amount of generations\n",
    "max =10\n",
    "\n",
    "##lower and upper bounds of the variables to solve\n",
    "Xih = [2, 1, 3000, 10**(-9), Isc]\n",
    "Xil = [1, 0.1, 50, 10**(-14), 0.000]\n"
   ]
  },
  {
   "cell_type": "markdown",
   "metadata": {},
   "source": [
    "Start to define the mutation,crossover, penalty and evaluation function from the paper"
   ]
  },
  {
   "cell_type": "markdown",
   "metadata": {},
   "source": [
    "Mutation:\n",
    "![title](Capture4.png)\n",
    "![title](Capture5.png)"
   ]
  },
  {
   "cell_type": "code",
   "execution_count": 2,
   "metadata": {},
   "outputs": [],
   "source": [
    "#mutation function\n",
    "def mutateDE(mutant, a, b, c, f):\n",
    "    size = len(mutant)\n",
    "    for k in range(size):\n",
    "        mutant[k] = a[k] + f * (b[k] - c[k])\n",
    "    return mutant"
   ]
  },
  {
   "cell_type": "markdown",
   "metadata": {},
   "source": [
    "Crossover and penalty function:\n",
    "![title](Capture3.png)"
   ]
  },
  {
   "cell_type": "code",
   "execution_count": 3,
   "metadata": {},
   "outputs": [],
   "source": [
    "#crossover based on binomial\n",
    "def cxBinomial(x, mutant, cr):\n",
    "    size = len(x)\n",
    "    index = random.randrange(size)\n",
    "    for i in range(size):\n",
    "        if ((i == index) or (random.random() <= cr)):\n",
    "            x[i] = mutant[i]\n",
    "    return x\n",
    "\n",
    "def cxExponential(x, y, cr):\n",
    "    size = len(x)\n",
    "    index = random.randrange(size)\n",
    "    # Loop on the indices index -> end, then on 0 -> index\n",
    "    for i in chain(range(index, size), range(0, index)):\n",
    "        x[i] = y[i]\n",
    "        if random.random() < cr:\n",
    "            break\n",
    "    return x\n",
    "\n",
    "#Penalty function to ensure the parameters remain in acceptable range\n",
    "def cxPenalty(x):\n",
    "    z = random.uniform(0, 1)\n",
    "   \n",
    "    if (x[0] > Xih[0]):\n",
    "        x[0] = x[0] - (z * (Xih[0] - Xil[0]))\n",
    "    if (x[1] > Xih[1]):\n",
    "        x[1] = x[1] - (z * (Xih[1] - Xil[1]))\n",
    "    if (x[2] > Xih[2]):\n",
    "        x[2] = x[2] - (z * (Xih[2] - Xil[2]))\n",
    "    if (x[3] > Xih[3]):\n",
    "        x[3] = x[3] - (z * (Xih[3] - Xil[3]))\n",
    "    if (x[4] > Xih[4]):\n",
    "        x[4] = x[4] - (z * (Xih[4] - Xil[4]))\n",
    "        \n",
    "        \n",
    "    if (x[0] < Xil[0]):\n",
    "        x[0] = x[0] + (z * (Xih[0] - Xil[0]))\n",
    "    if (x[1] < Xil[1]): \n",
    "        x[1] = x[1] + (z * (Xih[1] - Xil[1]))\n",
    "    if (x[2] < Xil[2]):\n",
    "        x[2] = x[2] + (z * (Xih[2] - Xil[2]))\n",
    "    if (x[3] < Xil[3]):\n",
    "        x[3] = x[3] + (z * (Xih[3] - Xil[3]))\n",
    "    if (x[4] < Xil[4]):\n",
    "        x[4] = x[4] + (z * (Xih[4] - Xil[4]))\n",
    "        \n",
    "        \n",
    "    return x\n"
   ]
  },
  {
   "cell_type": "code",
   "execution_count": 4,
   "metadata": {},
   "outputs": [
    {
     "name": "stdout",
     "output_type": "stream",
     "text": [
      "[-2.6953918851016834, 1, 3000, 1e-09, 8.99]\n"
     ]
    }
   ],
   "source": [
    "X = [-3, 1, 3000, 10**(-9), Isc]\n",
    "print(cxPenalty(X))"
   ]
  },
  {
   "cell_type": "code",
   "execution_count": 5,
   "metadata": {},
   "outputs": [],
   "source": [
    "# Imp = 3.15\n",
    "# Vmp = 17.4"
   ]
  },
  {
   "cell_type": "markdown",
   "metadata": {},
   "source": [
    "Objective function:\n",
    "\n",
    "![title](Capture.png)\n",
    "\n",
    "\n",
    "Parameter definitions:\n",
    "\n",
    "![title](Capture2.png)"
   ]
  },
  {
   "cell_type": "code",
   "execution_count": 6,
   "metadata": {},
   "outputs": [],
   "source": [
    "\n",
    "#evaluation and selection function\n",
    "def eval(a, Rs, Rp, Io):\n",
    "    r = (1 / (a * Vt))\n",
    "#     print(Vt)\n",
    "#     print(r)\n",
    "    Gp = (1 / Rp)\n",
    "#     print(Gp)\n",
    "    preex = (r*(Vmp + (Imp * Rs)))\n",
    "#     print(preex)\n",
    "    expo = mp.exp(preex)\n",
    "#     print(expo)\n",
    "    Jnum1 = (Io) * (r) * expo \n",
    "    Jnum = Jnum1 - (Gp)\n",
    "    #print(Jnum)\n",
    "    Jden = 1 + ((Rs)*(Jnum1)) + (Gp * Rs)\n",
    "#     print(Jden)\n",
    "    J = -(Jnum / Jden) + (Imp/Vmp)\n",
    "#     if(-(Jnum / Jden) > -1):\n",
    "#         print(-(Jnum / Jden))\n",
    "#     print(\"J=\",J)\n",
    "    return ((J))\n",
    "\n"
   ]
  },
  {
   "cell_type": "code",
   "execution_count": 7,
   "metadata": {},
   "outputs": [],
   "source": [
    "# print(eval(1.37,0.3,2.34,10**(-12)))\n",
    "# print(10**(-12))"
   ]
  },
  {
   "cell_type": "markdown",
   "metadata": {},
   "source": [
    "Register the defined functions above to the deap framework and setup the statistics to keep track of the population progression"
   ]
  },
  {
   "cell_type": "code",
   "execution_count": 8,
   "metadata": {},
   "outputs": [
    {
     "name": "stdout",
     "output_type": "stream",
     "text": [
      "gen\tevals\tstd             \tmin             \tavg              \tmax               \n",
      "0  \t1000 \t1.92233675998322\t-9.7653906035816\t-2.34899432020026\t-0.767273272390959\n"
     ]
    }
   ],
   "source": [
    "    generation = 0\n",
    "    # DEAP framework definition\n",
    "    creator.create(\"Fitnessmin\", base.Fitness, weights=(-1.0,))\n",
    "    creator.create(\"Individual\", array.array, typecode='d', fitness=creator.Fitnessmin)\n",
    "    toolbox = base.Toolbox()\n",
    "    toolbox.register(\"attr_a\", random.uniform, 1, 2)\n",
    "    toolbox.register(\"attr_rs\", random.uniform, 0.1, 1)\n",
    "    toolbox.register(\"attr_rp\", random.uniform, 50, 3000)\n",
    "    toolbox.register(\"attr_io\", random.uniform, 10**(-14),10**(-9))\n",
    "    toolbox.register(\"attr_ipv\", random.uniform, 0.1, Isc)\n",
    "    toolbox.register(\"individual\", tools.initCycle, creator.Individual,\n",
    "                     (toolbox.attr_a, toolbox.attr_rs, toolbox.attr_rp, toolbox.attr_io, toolbox.attr_ipv), 1)\n",
    "    toolbox.register(\"population\", tools.initRepeat, list, toolbox.individual)\n",
    "    toolbox.register(\"mutate\", mutateDE, f=0.4)\n",
    "    toolbox.register(\"select\", tools.selRandom, k=3)\n",
    "    toolbox.register(\"mate\", cxBinomial, cr=0.4)\n",
    "    toolbox.register(\"evaluate\", eval)\n",
    "      \n",
    "    # generate population\n",
    "    pop = toolbox.population(n=NP)\n",
    "    ## Hall of fame to save the best individual\n",
    "    hof = tools.HallOfFame(1)\n",
    "    \n",
    "    #Initialize stats\n",
    "    stats = tools.Statistics(lambda agent: agent.fitness.values)\n",
    "    stats.register(\"avg\", numpy.mean)\n",
    "    stats.register(\"std\", numpy.std)\n",
    "    stats.register(\"min\", numpy.min)\n",
    "    stats.register(\"max\", numpy.max)\n",
    "    \n",
    "    logbook = tools.Logbook()\n",
    "    logbook.header = \"gen\", \"evals\", \"std\", \"min\", \"avg\", \"max\"\n",
    "    #store statistics for initial population\n",
    "    for agent in pop:\n",
    "        fit = toolbox.evaluate(agent[0], agent[1], agent[2], agent[3])\n",
    "        agent.fitness.values = fit,\n",
    "    record = stats.compile(pop)\n",
    "    logbook.record(gen=0, evals=len(pop), **record)\n",
    "    print(logbook.stream)\n",
    "\n"
   ]
  },
  {
   "cell_type": "markdown",
   "metadata": {},
   "source": [
    "Perform the differential evolution algorithm searching for the global minimum"
   ]
  },
  {
   "cell_type": "code",
   "execution_count": null,
   "metadata": {
    "scrolled": true
   },
   "outputs": [
    {
     "name": "stdout",
     "output_type": "stream",
     "text": [
      "0  \t1000 \t2.20398121891077\t-29.9692911166954\t-2.80375006659192\t-0.767414132407916\n",
      "1  \t1000 \t2.37370179490489\t-29.9692911166954\t-3.29264432324987\t-0.767414132407916\n",
      "2  \t1000 \t2.41539682107168\t-29.9692911166954\t-3.71411438212136\t-0.767414132407916\n",
      "3  \t1000 \t2.67886726577807\t-30.5168646901122\t-4.21844665338107\t-0.795939412972464\n",
      "4  \t1000 \t2.73737129224409\t-30.5168646901122\t-4.78878557768761\t-0.828064072830084\n",
      "5  \t1000 \t2.8833635449198 \t-35.2290197308894\t-5.35020077154324\t-0.828064072830084\n",
      "6  \t1000 \t3.25482289761603\t-55.6036298230677\t-5.87564301877396\t-1.01411278152401 \n",
      "7  \t1000 \t3.16975517597802\t-55.6036298230677\t-6.36327298990193\t-1.23065957061009 \n",
      "8  \t1000 \t3.29420787263429\t-55.6036298230677\t-6.97736339066839\t-1.2531014827882  \n",
      "9  \t1000 \t5.76580898719808\t-159.177006272041\t-7.55011724653576\t-1.2531014827882  \n",
      "10 \t1000 \t5.6904292183926 \t-159.177006272041\t-7.93114692161874\t-1.74004479579818 \n",
      "11 \t1000 \t5.64031543315279\t-159.177006272041\t-8.26272897262753\t-1.74004479579818 \n",
      "12 \t1000 \t5.59327232136283\t-159.177006272041\t-8.52610149990142\t-1.74004479579818 \n",
      "13 \t1000 \t5.5518027283262 \t-159.177006272041\t-8.75628608820193\t-2.26198000057554 \n",
      "14 \t1000 \t5.52738506192904\t-159.177006272041\t-8.97516360751851\t-2.26198000057554 \n",
      "15 \t1000 \t5.4919224852649 \t-159.177006272041\t-9.16738172365609\t-3.07680103682081 \n",
      "16 \t1000 \t5.57119129592666\t-159.177006272041\t-9.39186391006494\t-3.07680103682081 \n",
      "17 \t1000 \t5.54740334035613\t-159.177006272041\t-9.54830642877497\t-3.07680103682081 \n",
      "18 \t1000 \t5.52102380679981\t-159.177006272041\t-9.67714773654865\t-3.07680103682081 \n",
      "19 \t1000 \t5.50152164277321\t-159.177006272041\t-9.77874800193475\t-3.1422397546388  \n",
      "20 \t1000 \t5.48155671786739\t-159.177006272041\t-9.87400865009328\t-5.80033132030658 \n",
      "21 \t1000 \t5.474105627217  \t-159.177006272041\t-9.93128989374326\t-6.40388933098314 \n",
      "22 \t1000 \t5.47080732745195\t-159.177006272041\t-9.99634525519872\t-6.40388933098314 \n",
      "23 \t1000 \t5.46446254820302\t-159.177006272041\t-10.043913303415 \t-6.40388933098314 \n",
      "24 \t1000 \t5.46494830261221\t-159.177006272041\t-10.0902411069545\t-7.7332105735254  \n",
      "25 \t1000 \t5.46110962073118\t-159.177006272041\t-10.1220421130051\t-8.04304590310148 \n",
      "26 \t1000 \t5.45846276191881\t-159.177006272041\t-10.1512345017707\t-8.04304590310148 \n",
      "27 \t1000 \t5.46433910616662\t-159.177006272041\t-10.186493833684 \t-8.04304590310148 \n",
      "28 \t1000 \t5.46221304649905\t-159.177006272041\t-10.2048298295752\t-8.04304590310148 \n",
      "29 \t1000 \t5.45997224628923\t-159.177006272041\t-10.2214437649637\t-8.61577185023834 \n",
      "30 \t1000 \t5.46285611388208\t-159.177006272041\t-10.2412113798913\t-9.11884800435225 \n",
      "31 \t1000 \t5.46178642033065\t-159.177006272041\t-10.2511151495512\t-9.21794508462667 \n",
      "32 \t1000 \t5.46100036357558\t-159.177006272041\t-10.25871782136  \t-9.21794508462667 \n",
      "33 \t1000 \t5.46019044649403\t-159.177006272041\t-10.2663173156792\t-9.32245531736287 \n",
      "34 \t1000 \t5.46411502573581\t-159.177006272041\t-10.2825312910208\t-9.32245531736287 \n",
      "35 \t1000 \t5.46456742270454\t-159.177006272041\t-10.2895466665634\t-9.32245531736287 \n",
      "36 \t1000 \t5.46458683356413\t-159.177006272041\t-10.2954783121115\t-9.32245531736287 \n",
      "37 \t1000 \t5.4642675123014 \t-159.177006272041\t-10.2987542484018\t-9.32245531736287 \n",
      "38 \t1000 \t5.47360856268463\t-159.177006272041\t-10.3141607844241\t-9.6062589097392  \n",
      "39 \t1000 \t5.4733725780138 \t-159.177006272041\t-10.3163771714065\t-9.64799969338759 \n",
      "40 \t1000 \t5.47319890915384\t-159.177006272041\t-10.3180533861056\t-9.64799969338759 \n",
      "41 \t1000 \t5.47302176492888\t-159.177006272041\t-10.320239377105 \t-9.64799969338759 \n",
      "42 \t1000 \t5.47292357857201\t-159.177006272041\t-10.3211796632092\t-9.68631361189101 \n",
      "43 \t1000 \t5.47532292763038\t-159.177006272041\t-10.3282702715849\t-9.69158324120609 \n",
      "44 \t1000 \t5.50991421501321\t-159.177006272041\t-10.3492439356672\t-9.69619194884561 \n",
      "45 \t1000 \t5.51227300704219\t-159.177006272041\t-10.3556936762901\t-9.69619194884561 \n",
      "46 \t1000 \t5.51390105681745\t-159.177006272041\t-10.363350656143 \t-9.69619194884561 \n",
      "47 \t1000 \t5.51385892708524\t-159.177006272041\t-10.3637329529309\t-9.709775881974   \n",
      "48 \t1000 \t5.51379520210877\t-159.177006272041\t-10.366225698196 \t-9.72135862726042 \n",
      "49 \t1000 \t5.51374668492525\t-159.177006272041\t-10.3666747789941\t-9.72135862726042 \n",
      "50 \t1000 \t5.51371629255078\t-159.177006272041\t-10.3669508722889\t-9.75092813045743 \n",
      "51 \t1000 \t5.51514407701175\t-159.177006272041\t-10.3717963274807\t-9.75286722159809 \n",
      "52 \t1000 \t5.51512737457256\t-159.177006272041\t-10.3719476890586\t-9.75394884575794 \n",
      "53 \t1000 \t5.51517326090516\t-159.177006272041\t-10.3737525582253\t-9.75394884575794 \n",
      "54 \t1000 \t5.51514073366583\t-159.177006272041\t-10.3740863518924\t-9.75555174753749 \n",
      "55 \t1000 \t5.51509665907984\t-159.177006272041\t-10.3747613955968\t-9.75630729912952 \n",
      "56 \t1000 \t5.51508816753539\t-159.177006272041\t-10.3748381142413\t-9.75630729912952 \n",
      "57 \t1000 \t5.5150627074959 \t-159.177006272041\t-10.3750878170241\t-9.76141979281234 \n",
      "58 \t1000 \t5.51505721601981\t-159.177006272041\t-10.3751374647986\t-9.76141979281234 \n",
      "59 \t1000 \t5.53610951466374\t-159.177006272041\t-10.3910805467138\t-9.76141979281234 \n",
      "60 \t1000 \t5.53765345412609\t-159.177006272041\t-10.3970960154953\t-9.76226715391832 \n",
      "61 \t1000 \t5.53762123341862\t-159.177006272041\t-10.3974730080765\t-9.76226715391832 \n",
      "62 \t1000 \t5.53756573994344\t-159.177006272041\t-10.3990076615401\t-9.76226715391832 \n",
      "63 \t1000 \t5.53885392659861\t-159.177006272041\t-10.4034996469531\t-9.76226715391832 \n",
      "64 \t1000 \t5.53885368994582\t-159.177006272041\t-10.404931997004 \t-9.76226715391832 \n",
      "65 \t1000 \t5.53885117526604\t-159.177006272041\t-10.4049537689462\t-9.76473887061636 \n",
      "66 \t1000 \t5.54161307262504\t-159.177006272041\t-10.4141242084306\t-9.76473887061636 \n",
      "67 \t1000 \t5.54165944524556\t-159.177006272041\t-10.4157572602954\t-9.76535297576171 \n",
      "68 \t1000 \t5.54165876400386\t-159.177006272041\t-10.4157630679021\t-9.76535297576171 \n",
      "69 \t1000 \t5.5449787120932 \t-159.177006272041\t-10.4248092387733\t-9.76535630671231 \n",
      "70 \t1000 \t5.54516158742449\t-159.177006272041\t-10.4270463257225\t-9.76538403266658 \n",
      "71 \t1000 \t5.54631435823078\t-159.177006272041\t-10.4326317017652\t-9.76551572994582 \n",
      "72 \t1000 \t5.562622856562  \t-159.177006272041\t-10.4485443090888\t-9.76551572994582 \n",
      "73 \t1000 \t5.56318250018971\t-159.177006272041\t-10.4546998689767\t-9.76551572994582 \n",
      "74 \t1000 \t5.56314467554247\t-159.177006272041\t-10.4556341404406\t-9.76551572994582 \n"
     ]
    }
   ],
   "source": [
    "while (generation < max):\n",
    "        for i, agent in enumerate(pop):\n",
    "            # Mutation\n",
    "            print(\"Selecting three individual:\")\n",
    "            a, b, c = [toolbox.clone(ind) for ind in toolbox.select(pop)]\n",
    "            print(\"Indiviual 1 = \",a)\n",
    "            print(\"Indiviual 2 = \",b)\n",
    "            print(\"Indiviual 3 = \",c)\n",
    "            print(\"Producing mutant:\")\n",
    "            mutant1 = toolbox.clone(agent)\n",
    "            print(\"clone1 = \",mutant1)\n",
    "            mutant = toolbox.clone(agent)\n",
    "            print(\"clone2 = \",mutant)\n",
    "            mutant = toolbox.mutate(mutant, a, b, c)\n",
    "            print(\"mutant = \",mutant)\n",
    "            # crossover\n",
    "            print(\"Applying crossover:\")\n",
    "            trialvec = toolbox.mate(mutant1, mutant)\n",
    "            print(\"trial vector = \",trialvec)\n",
    "            trialvec = cxPenalty(trialvec)\n",
    "            print(\"trial vector post penalty = \",trialvec)\n",
    "#             print(trialvec)\n",
    "            trialeval = (toolbox.evaluate(trialvec[0], trialvec[1], trialvec[2], trialvec[3]))\n",
    "            curreval = (toolbox.evaluate(agent[0], agent[1], agent[2], agent[3]))\n",
    "#             if((curreval < 0)and (trialeval<0) ):\n",
    "#                 pop[i].fitness.values = math.inf, \n",
    "            pop[i].fitness.values = curreval, \n",
    "            if ((trialeval < curreval)):\n",
    "                #selection -> trialvector is better than original vector\n",
    "                pop[i] = trialvec\n",
    "                pop[i].fitness.values = trialeval,\n",
    "        hof.update(pop)\n",
    "        record = stats.compile(pop)\n",
    "        logbook.record(gen=generation, evals=len(pop), **record)\n",
    "        print(logbook.stream)\n",
    "        generation = generation + 1\n",
    "\n",
    "\n",
    "        "
   ]
  },
  {
   "cell_type": "code",
   "execution_count": null,
   "metadata": {},
   "outputs": [
    {
     "name": "stdout",
     "output_type": "stream",
     "text": [
      "fitness = (mpf('0.53576947275045483'),)\n",
      "io = 7.901586721277167e-10\n",
      "Rs = 1.2987618763710174\n",
      "Rp =  1497.6049939422608\n",
      "a = 1.9905325243367513\n",
      "r = 3.404961716974437\n",
      "solving start:\n",
      "Imp = -1.14278346537659e+61\n"
     ]
    }
   ],
   "source": [
    "##extract best individual from the hall of fame\n",
    "bestid = hof[0]\n",
    "fit = hof[0].fitness\n",
    "print(\"fitness =\",fit)\n",
    "##extract parameters from individual\n",
    "a = ((bestid[0]))\n",
    "Rs = ((bestid[1]))\n",
    "Rp = ((bestid[2]))\n",
    "io = ((bestid[3]))\n",
    "print(\"io =\",io)\n",
    "print(\"Rs =\",Rs)\n",
    "print(\"Rp = \",Rp)\n",
    "print(\"a =\",a)\n",
    "#print(\"evaluation function =\",toolbox.evaluate(a, Rs, Rp, io))\n",
    "r = (1.0 / (a * Vt))\n",
    "print(\"r =\",r)\n",
    "#Solve to ensure that Imp is retrieved when Vmp is provided\n",
    "print(\"solving start:\")\n",
    "exp1 = (Vmp +(Imp*Rs))*r\n",
    "s1= mp.exp(exp1) -1\n",
    "s1a = io*s1\n",
    "s2 = (Vmp + (Imp*Rs))/(Rp)\n",
    "s3 = Isc - s1a - s2\n",
    "t =[]\n",
    "v = []\n",
    "print(\"Imp =\",s3)\n",
    "for V in range(45):\n",
    "    v.append(V)\n",
    "    I = sympy.Symbol('I')\n",
    "    eqn = Eq(Isc-io*(((exp(r*(V + (I * Rs))))) - 1)-((V+(I*Rs))/Rp ))\n",
    "    t.append(solve(eqn,I,rational=False,real=True))\n",
    "    print(v[V])\n",
    "    print(t[V])"
   ]
  },
  {
   "cell_type": "code",
   "execution_count": 12,
   "metadata": {},
   "outputs": [
    {
     "name": "stdout",
     "output_type": "stream",
     "text": [
      "[0, 1, 2, 3, 4, 5, 6, 7, 8, 9, 10, 11, 12, 13, 14, 15, 16, 17, 18, 19, 20, 21, 22, 23, 24, 25, 26, 27, 28, 29, 30, 31, 32, 33, 34, 35, 36, 37, 38, 39, 40, 41, 42, 43, 44]\n",
      "[[3.85683119304304], [3.11484356980145], [2.37285594655987], [1.63086832332192], [0.888880700080335], [0.146893076835113], [-0.595094546402834], [-1.33708216964442], [-2.07906979288236], [-2.82105741612395], [-3.56304503936190], [-4.30503266260348], [-5.04702028584506], [-5.78900790909029], [-6.53099553233187], [-7.27298315556982], [-8.01497077881140], [-8.75695840205299], [-9.49894602529457], [-10.2409336485325], [-10.9829212717741], [-11.7249088950157], [-12.4668965182536], [-13.2088841414952], [-13.9508717647368], [-14.6928593879784], [-15.4348470112200], [-16.1768346344616], [-16.9188222577031], [-17.6608098809411], [-18.4027975041827], [-19.1447851274243], [-19.8867727506658], [-20.6287603739074], [-21.3707479971454], [-22.1127356203906], [-22.8547232436322], [-23.5967108668701], [-24.3386984901081], [-25.0806861133497], [-25.8226737365949], [-26.5646613598328], [-27.3066489830744], [-28.0486366063160], [-28.7906242295539]]\n"
     ]
    },
    {
     "data": {
      "image/png": "[encoded data removed]",
      "text/plain": [
       "<Figure size 432x288 with 1 Axes>"
      ]
     },
     "metadata": {
      "needs_background": "light"
     },
     "output_type": "display_data"
    }
   ],
   "source": [
    "print(v)\n",
    "print(t)\n",
    "plt.plot(v,t,'o')\n",
    "plt.show()"
   ]
  }
 ],
 "metadata": {
  "kernelspec": {
   "display_name": "Python 3",
   "language": "python",
   "name": "python3"
  },
  "language_info": {
   "codemirror_mode": {
    "name": "ipython",
    "version": 3
   },
   "file_extension": ".py",
   "mimetype": "text/x-python",
   "name": "python",
   "nbconvert_exporter": "python",
   "pygments_lexer": "ipython3",
   "version": "3.7.3"
  }
 },
 "nbformat": 4,
 "nbformat_minor": 2
}
